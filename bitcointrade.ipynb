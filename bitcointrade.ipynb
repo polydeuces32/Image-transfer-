{
  "nbformat": 4,
  "nbformat_minor": 0,
  "metadata": {
    "colab": {
      "private_outputs": true,
      "provenance": [],
      "authorship_tag": "ABX9TyOpdrHpRBUX0v8yTSPpQO76",
      "include_colab_link": true
    },
    "kernelspec": {
      "name": "python3",
      "display_name": "Python 3"
    },
    "language_info": {
      "name": "python"
    }
  },
  "cells": [
    {
      "cell_type": "markdown",
      "metadata": {
        "id": "view-in-github",
        "colab_type": "text"
      },
      "source": [
        "<a href=\"https://colab.research.google.com/github/polydeuces32/s-p500-predicter-on-Python-/blob/main/bitcointrade.ipynb\" target=\"_parent\"><img src=\"https://colab.research.google.com/assets/colab-badge.svg\" alt=\"Open In Colab\"/></a>"
      ]
    },
    {
      "cell_type": "markdown",
      "source": [
        "# Bitcoin buy/sell **bold text**"
      ],
      "metadata": {
        "id": "4hxVTDEmXtjV"
      }
    },
    {
      "cell_type": "code",
      "source": [
        "!pip install yfinance\n",
        "\n",
        "import yfinance as yf\n",
        "import pandas as pd\n",
        "import numpy as np\n",
        "import matplotlib.pyplot as plt\n",
        "\n",
        "# Function to fetch Bitcoin data with adjustable time frame\n",
        "def fetch_bitcoin_data(ticker='BTC-USD', period='1d', interval='1h'):\n",
        "    bitcoin_data = yf.download(ticker, period=period, interval=interval)\n",
        "    return bitcoin_data\n",
        "\n",
        "# Function to calculate moving averages with adjustable lengths\n",
        "def calculate_moving_averages(data, short_window=40, long_window=100, long_window_200=200):\n",
        "    data['SMA40'] = data['Close'].rolling(window=short_window, min_periods=1).mean()\n",
        "    data['SMA100'] = data['Close'].rolling(window=long_window, min_periods=1).mean()\n",
        "    data['SMA200'] = data['Close'].rolling(window=long_window_200, min_periods=1).mean()\n",
        "    return data\n",
        "\n",
        "# Function to generate buy/sell signals\n",
        "def generate_signals(data, short_window=40, long_window=100):\n",
        "    data['Signal'] = np.where(data['SMA40'] > data['SMA100'], 1, 0)\n",
        "    data['Signal'] = data['Signal'].shift(1)\n",
        "    data['Position'] = data['Signal'].diff()\n",
        "    return data\n",
        "\n",
        "# Function to plot the Bitcoin data\n",
        "def plot_bitcoin_data(data):\n",
        "    plt.figure(figsize=(14, 7))\n",
        "    plt.plot(data['Close'], label='Close Price')\n",
        "    plt.plot(data['SMA40'], label='40-period SMA', alpha=0.7)\n",
        "    plt.plot(data['SMA100'], label='100-period SMA', alpha=0.7)\n",
        "    plt.plot(data['SMA200'], label='200-period SMA', alpha=0.7)\n",
        "    plt.scatter(data.index, data['Buy_Signal_Price'], label='Buy', marker='^', color='yellow')\n",
        "    plt.scatter(data.index, data['Sell_Signal_Price'], label='Sell', marker='v', color='red')\n",
        "    plt.title('Bitcoin Price and Buy/Sell Signals')\n",
        "    plt.legend()\n",
        "    plt.show()\n",
        "\n",
        "# Function to identify buy/sell signals for Bitcoin\n",
        "def identify_buy_sell_signals(data):\n",
        "    data['Buy_Signal_Price'] = np.nan\n",
        "    data['Sell_Signal_Price'] = np.nan\n",
        "\n",
        "    data.loc[data['Position'] == 1, 'Buy_Signal_Price'] = data['Close']\n",
        "    data.loc[data['Position'] == -1, 'Sell_Signal_Price'] = data['Close']\n",
        "\n",
        "    return data\n",
        "\n",
        "# Main function to run the Bitcoin script with adjustable parameters\n",
        "def main_bitcoin(ticker='BTC-USD', period='1d', interval='1h', short_window=40, long_window=100, long_window_200=200):\n",
        "    bitcoin_data = fetch_bitcoin_data(ticker, period, interval)\n",
        "    bitcoin_data = calculate_moving_averages(bitcoin_data, short_window, long_window, long_window_200)\n",
        "    bitcoin_data = generate_signals(bitcoin_data, short_window, long_window)\n",
        "    bitcoin_data = identify_buy_sell_signals(bitcoin_data)\n",
        "    plot_bitcoin_data(bitcoin_data)\n",
        "\n",
        "# Example usage with adjusted parameters\n",
        "main_bitcoin(ticker='BTC-USD', period='5d', interval='1m', short_window=20, long_window=50, long_window_200=200)\n"
      ],
      "metadata": {
        "id": "BpAX-i20ZZO4"
      },
      "execution_count": null,
      "outputs": []
    }
  ]
}